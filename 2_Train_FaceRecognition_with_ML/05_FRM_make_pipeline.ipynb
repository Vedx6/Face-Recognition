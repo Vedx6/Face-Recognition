{
 "cells": [
  {
   "cell_type": "code",
   "execution_count": 1,
   "id": "9b324d3c",
   "metadata": {},
   "outputs": [
    {
     "name": "stderr",
     "output_type": "stream",
     "text": [
      "C:\\Python Project\\003 FaceRecognition-Flask-main\\facerecogination\\Lib\\site-packages\\sklearn\\base.py:380: InconsistentVersionWarning: Trying to unpickle estimator SVC from version 0.24.2 when using version 1.6.1. This might lead to breaking code or invalid results. Use at your own risk. For more info please refer to:\n",
      "https://scikit-learn.org/stable/model_persistence.html#security-maintainability-limitations\n",
      "  warnings.warn(\n"
     ]
    }
   ],
   "source": [
    "import numpy as np\n",
    "import pandas as pd\n",
    "import sklearn\n",
    "import pickle\n",
    "\n",
    "import matplotlib.pyplot as plt\n",
    "import cv2  # Load all models\n",
    "haar = cv2.CascadeClassifier('./model/haarcascade_frontalface_default.xml')  # cascade classifier\n",
    "model_svm = pickle.load(open('./model/model_svm.pickle', mode='rb'))  # machine learning model (SVM)\n",
    "pca_models = pickle.load(open('./model/pca_dict.pickle', mode='rb'))  # pca dictionary\n",
    "model_pca = pca_models['pca']  # PCA model\n",
    "mean_face_arr = pca_models['mean_face']  # Mean Face\n"
   ]
  },
  {
   "cell_type": "markdown",
   "id": "bb3401e8",
   "metadata": {},
   "source": [
    "#### Create Pipeline"
   ]
  },
  {
   "cell_type": "code",
   "execution_count": 2,
   "id": "0df74615",
   "metadata": {},
   "outputs": [
    {
     "name": "stdout",
     "output_type": "stream",
     "text": [
      "Raw Prediction: ['female']\n",
      "Prediction Probabilities: [[0.98027212 0.01972788]]\n",
      "ROI Shape: (100, 100)\n",
      "Raw Prediction: ['male']\n",
      "Prediction Probabilities: [[0.46095139 0.53904861]]\n",
      "ROI Shape: (100, 100)\n",
      "Raw Prediction: ['female']\n",
      "Prediction Probabilities: [[0.97363359 0.02636641]]\n",
      "ROI Shape: (100, 100)\n"
     ]
    }
   ],
   "source": [
    "import cv2\n",
    "import pickle\n",
    "\n",
    "# Load necessary models with error handling\n",
    "try:\n",
    "    haar = cv2.CascadeClassifier('./model/haarcascade_frontalface_default.xml')\n",
    "    if haar.empty():\n",
    "        raise FileNotFoundError(\"Haarcascade file not found or not loaded properly.\")\n",
    "    \n",
    "    model_svm = pickle.load(open('./model/model_svm.pickle', mode='rb'))\n",
    "    pca_models = pickle.load(open('./model/pca_dict.pickle', mode='rb'))\n",
    "    model_pca = pca_models['pca']\n",
    "    mean_face_arr = pca_models['mean_face']\n",
    "except Exception as e:\n",
    "    print(f\"Error loading models: {e}\")\n",
    "    exit(1)\n",
    "\n",
    "# Read and preprocess the image\n",
    "img = cv2.imread('./test_images/getty_test.jpg')\n",
    "if img is None:\n",
    "    print(\"Error: Image not found.\")\n",
    "    exit(1)\n",
    "\n",
    "gray = cv2.cvtColor(img, cv2.COLOR_BGR2GRAY)\n",
    "faces = haar.detectMultiScale(gray, 1.5, 3)\n",
    "\n",
    "for x, y, w, h in faces:\n",
    "    roi = gray[y:y + h, x:x + w]\n",
    "    roi = roi / 255.0\n",
    "    roi_resize = cv2.resize(roi, (100, 100), cv2.INTER_AREA if roi.shape[1] > 100 else cv2.INTER_CUBIC)\n",
    "    roi_reshape = roi_resize.reshape(1, -1)\n",
    "    roi_mean = roi_reshape - mean_face_arr\n",
    "    eigen_image = model_pca.transform(roi_mean)\n",
    "\n",
    "    results = model_svm.predict(eigen_image)\n",
    "    prob_score = model_svm.predict_proba(eigen_image)\n",
    "    prob_score_max = prob_score.max()\n",
    "\n",
    "    # Debugging outputs\n",
    "    print(f\"Raw Prediction: {results}\")\n",
    "    print(f\"Prediction Probabilities: {prob_score}\")\n",
    "    print(f\"ROI Shape: {roi_resize.shape}\")\n",
    "\n",
    "    # Manual swap if needed\n",
    "    corrected_gender = 'female' if results[0] == 'male' else 'male'\n",
    "    text = f\"{corrected_gender} : {prob_score_max * 100:.2f}%\"\n",
    "\n",
    "    # Assign neon colors\n",
    "    color = (0, 140, 255) if corrected_gender == 'male' else (255, 20, 147)  # Neon orange for male, neon pink for female\n",
    "    cv2.rectangle(img, (x, y), (x + w, y + h), color, 2)\n",
    "    cv2.rectangle(img, (x, y - 40), (x + w, y), color, -1)\n",
    "    cv2.putText(img, text, (x, y), cv2.FONT_HERSHEY_PLAIN, 3, (255, 255, 255), 5)\n",
    "\n",
    "# Display image with predictions\n",
    "cv2.imshow('Face Recognition', img)\n",
    "cv2.waitKey(0)\n",
    "cv2.destroyAllWindows()\n"
   ]
  },
  {
   "cell_type": "code",
   "execution_count": 2,
   "id": "951d0143",
   "metadata": {},
   "outputs": [],
   "source": [
    "results[0] = 'female' if results[0] == 'male' else 'male'\n"
   ]
  },
  {
   "cell_type": "code",
   "execution_count": null,
   "id": "6f685f34-756b-43de-8f57-297b01bdd8f0",
   "metadata": {},
   "outputs": [],
   "source": []
  }
 ],
 "metadata": {
  "kernelspec": {
   "display_name": "Python 3 (ipykernel)",
   "language": "python",
   "name": "python3"
  },
  "language_info": {
   "codemirror_mode": {
    "name": "ipython",
    "version": 3
   },
   "file_extension": ".py",
   "mimetype": "text/x-python",
   "name": "python",
   "nbconvert_exporter": "python",
   "pygments_lexer": "ipython3",
   "version": "3.13.2"
  }
 },
 "nbformat": 4,
 "nbformat_minor": 5
}
