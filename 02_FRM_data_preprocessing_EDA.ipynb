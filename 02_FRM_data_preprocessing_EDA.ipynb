{
 "cells": [
  {
   "cell_type": "markdown",
   "id": "6bae6b3f",
   "metadata": {},
   "source": [
    "# Exploratory Data Analysis\n",
    "1. Distribution of Male and Female \n",
    " - Bar Chart\n",
    " - Pie Chart\n",
    "2. What Distribution of size of all Images\n",
    " - Histogram\n",
    " - Box Plot\n",
    " - Split by “Gender”\n",
    "3. Make the decision of width & height to resize using above chart.\n",
    "4. Remove the few images that are having very less size"
   ]
  },
  {
   "cell_type": "code",
   "execution_count": 28,
   "id": "8457f204",
   "metadata": {},
   "outputs": [
    {
     "name": "stdout",
     "output_type": "stream",
     "text": [
      "Requirement already satisfied: seaborn in c:\\python project\\003 facerecognition-flask-main\\facerecogination\\lib\\site-packages (0.13.2)\n",
      "Requirement already satisfied: numpy!=1.24.0,>=1.20 in c:\\python project\\003 facerecognition-flask-main\\facerecogination\\lib\\site-packages (from seaborn) (2.2.2)\n",
      "Requirement already satisfied: pandas>=1.2 in c:\\python project\\003 facerecognition-flask-main\\facerecogination\\lib\\site-packages (from seaborn) (2.2.3)\n",
      "Requirement already satisfied: matplotlib!=3.6.1,>=3.4 in c:\\python project\\003 facerecognition-flask-main\\facerecogination\\lib\\site-packages (from seaborn) (3.10.0)\n",
      "Requirement already satisfied: contourpy>=1.0.1 in c:\\python project\\003 facerecognition-flask-main\\facerecogination\\lib\\site-packages (from matplotlib!=3.6.1,>=3.4->seaborn) (1.3.1)\n",
      "Requirement already satisfied: cycler>=0.10 in c:\\python project\\003 facerecognition-flask-main\\facerecogination\\lib\\site-packages (from matplotlib!=3.6.1,>=3.4->seaborn) (0.12.1)\n",
      "Requirement already satisfied: fonttools>=4.22.0 in c:\\python project\\003 facerecognition-flask-main\\facerecogination\\lib\\site-packages (from matplotlib!=3.6.1,>=3.4->seaborn) (4.55.6)\n",
      "Requirement already satisfied: kiwisolver>=1.3.1 in c:\\python project\\003 facerecognition-flask-main\\facerecogination\\lib\\site-packages (from matplotlib!=3.6.1,>=3.4->seaborn) (1.4.8)\n",
      "Requirement already satisfied: packaging>=20.0 in c:\\python project\\003 facerecognition-flask-main\\facerecogination\\lib\\site-packages (from matplotlib!=3.6.1,>=3.4->seaborn) (24.2)\n",
      "Requirement already satisfied: pillow>=8 in c:\\python project\\003 facerecognition-flask-main\\facerecogination\\lib\\site-packages (from matplotlib!=3.6.1,>=3.4->seaborn) (11.1.0)\n",
      "Requirement already satisfied: pyparsing>=2.3.1 in c:\\python project\\003 facerecognition-flask-main\\facerecogination\\lib\\site-packages (from matplotlib!=3.6.1,>=3.4->seaborn) (3.2.1)\n",
      "Requirement already satisfied: python-dateutil>=2.7 in c:\\python project\\003 facerecognition-flask-main\\facerecogination\\lib\\site-packages (from matplotlib!=3.6.1,>=3.4->seaborn) (2.9.0.post0)\n",
      "Requirement already satisfied: pytz>=2020.1 in c:\\python project\\003 facerecognition-flask-main\\facerecogination\\lib\\site-packages (from pandas>=1.2->seaborn) (2024.2)\n",
      "Requirement already satisfied: tzdata>=2022.7 in c:\\python project\\003 facerecognition-flask-main\\facerecogination\\lib\\site-packages (from pandas>=1.2->seaborn) (2025.1)\n",
      "Requirement already satisfied: six>=1.5 in c:\\python project\\003 facerecognition-flask-main\\facerecogination\\lib\\site-packages (from python-dateutil>=2.7->matplotlib!=3.6.1,>=3.4->seaborn) (1.17.0)\n"
     ]
    }
   ],
   "source": [
    "!pip install seaborn"
   ]
  },
  {
   "cell_type": "code",
   "execution_count": 2,
   "id": "891cd802",
   "metadata": {},
   "outputs": [],
   "source": [
    "import numpy as np\n",
    "import pandas as pd\n",
    "\n",
    "# visualization\n",
    "import matplotlib.pyplot as plt\n",
    "import seaborn as sns\n",
    "\n",
    "# computer vision library\n",
    "import cv2\n",
    "\n",
    "# glob\n",
    "from glob import glob"
   ]
  },
  {
   "cell_type": "code",
   "execution_count": 3,
   "id": "2f9d0710",
   "metadata": {},
   "outputs": [],
   "source": [
    "import warnings\n",
    "warnings.filterwarnings('ignore')"
   ]
  },
  {
   "cell_type": "code",
   "execution_count": 4,
   "id": "e0163aee",
   "metadata": {},
   "outputs": [],
   "source": [
    "# extract path of male and female in crop_data folder and put them in a list\n",
    "fpath = glob('./crop_data/female/*.jpg')\n",
    "mpath = glob('./crop_data/male/*.jpg')"
   ]
  },
  {
   "cell_type": "code",
   "execution_count": 5,
   "id": "ffce1049",
   "metadata": {},
   "outputs": [
    {
     "data": {
      "text/html": [
       "<div>\n",
       "<style scoped>\n",
       "    .dataframe tbody tr th:only-of-type {\n",
       "        vertical-align: middle;\n",
       "    }\n",
       "\n",
       "    .dataframe tbody tr th {\n",
       "        vertical-align: top;\n",
       "    }\n",
       "\n",
       "    .dataframe thead th {\n",
       "        text-align: right;\n",
       "    }\n",
       "</style>\n",
       "<table border=\"1\" class=\"dataframe\">\n",
       "  <thead>\n",
       "    <tr style=\"text-align: right;\">\n",
       "      <th></th>\n",
       "      <th>filepath</th>\n",
       "      <th>gender</th>\n",
       "    </tr>\n",
       "  </thead>\n",
       "  <tbody>\n",
       "    <tr>\n",
       "      <th>0</th>\n",
       "      <td>./crop_data/female\\female_0.jpg</td>\n",
       "      <td>female</td>\n",
       "    </tr>\n",
       "    <tr>\n",
       "      <th>1</th>\n",
       "      <td>./crop_data/female\\female_1.jpg</td>\n",
       "      <td>female</td>\n",
       "    </tr>\n",
       "    <tr>\n",
       "      <th>2</th>\n",
       "      <td>./crop_data/female\\female_100.jpg</td>\n",
       "      <td>female</td>\n",
       "    </tr>\n",
       "    <tr>\n",
       "      <th>3</th>\n",
       "      <td>./crop_data/female\\female_1002.jpg</td>\n",
       "      <td>female</td>\n",
       "    </tr>\n",
       "    <tr>\n",
       "      <th>4</th>\n",
       "      <td>./crop_data/female\\female_1005.jpg</td>\n",
       "      <td>female</td>\n",
       "    </tr>\n",
       "  </tbody>\n",
       "</table>\n",
       "</div>"
      ],
      "text/plain": [
       "                             filepath  gender\n",
       "0     ./crop_data/female\\female_0.jpg  female\n",
       "1     ./crop_data/female\\female_1.jpg  female\n",
       "2   ./crop_data/female\\female_100.jpg  female\n",
       "3  ./crop_data/female\\female_1002.jpg  female\n",
       "4  ./crop_data/female\\female_1005.jpg  female"
      ]
     },
     "execution_count": 5,
     "metadata": {},
     "output_type": "execute_result"
    }
   ],
   "source": [
    "df_female = pd.DataFrame(fpath,columns=['filepath'])\n",
    "df_female['gender'] = 'female'\n",
    "\n",
    "df_male = pd.DataFrame(mpath,columns=['filepath'])\n",
    "df_male['gender'] = 'male'\n",
    "\n",
    "df = pd.concat((df_female,df_male),axis=0)\n",
    "\n",
    "df.head()"
   ]
  },
  {
   "cell_type": "code",
   "execution_count": 6,
   "id": "37cd2544",
   "metadata": {},
   "outputs": [
    {
     "data": {
      "text/html": [
       "<div>\n",
       "<style scoped>\n",
       "    .dataframe tbody tr th:only-of-type {\n",
       "        vertical-align: middle;\n",
       "    }\n",
       "\n",
       "    .dataframe tbody tr th {\n",
       "        vertical-align: top;\n",
       "    }\n",
       "\n",
       "    .dataframe thead th {\n",
       "        text-align: right;\n",
       "    }\n",
       "</style>\n",
       "<table border=\"1\" class=\"dataframe\">\n",
       "  <thead>\n",
       "    <tr style=\"text-align: right;\">\n",
       "      <th></th>\n",
       "      <th>filepath</th>\n",
       "      <th>gender</th>\n",
       "    </tr>\n",
       "  </thead>\n",
       "  <tbody>\n",
       "    <tr>\n",
       "      <th>2167</th>\n",
       "      <td>./crop_data/male\\male_994.jpg</td>\n",
       "      <td>male</td>\n",
       "    </tr>\n",
       "    <tr>\n",
       "      <th>2168</th>\n",
       "      <td>./crop_data/male\\male_996.jpg</td>\n",
       "      <td>male</td>\n",
       "    </tr>\n",
       "    <tr>\n",
       "      <th>2169</th>\n",
       "      <td>./crop_data/male\\male_997.jpg</td>\n",
       "      <td>male</td>\n",
       "    </tr>\n",
       "    <tr>\n",
       "      <th>2170</th>\n",
       "      <td>./crop_data/male\\male_998.jpg</td>\n",
       "      <td>male</td>\n",
       "    </tr>\n",
       "    <tr>\n",
       "      <th>2171</th>\n",
       "      <td>./crop_data/male\\male_999.jpg</td>\n",
       "      <td>male</td>\n",
       "    </tr>\n",
       "  </tbody>\n",
       "</table>\n",
       "</div>"
      ],
      "text/plain": [
       "                           filepath gender\n",
       "2167  ./crop_data/male\\male_994.jpg   male\n",
       "2168  ./crop_data/male\\male_996.jpg   male\n",
       "2169  ./crop_data/male\\male_997.jpg   male\n",
       "2170  ./crop_data/male\\male_998.jpg   male\n",
       "2171  ./crop_data/male\\male_999.jpg   male"
      ]
     },
     "execution_count": 6,
     "metadata": {},
     "output_type": "execute_result"
    }
   ],
   "source": [
    "df.tail()"
   ]
  },
  {
   "cell_type": "code",
   "execution_count": 7,
   "id": "14015fae",
   "metadata": {},
   "outputs": [
    {
     "data": {
      "text/plain": [
       "(4758, 2)"
      ]
     },
     "execution_count": 7,
     "metadata": {},
     "output_type": "execute_result"
    }
   ],
   "source": [
    "df.shape"
   ]
  },
  {
   "cell_type": "code",
   "execution_count": 8,
   "id": "cb12d392",
   "metadata": {},
   "outputs": [],
   "source": [
    "# it will take each image path\n",
    "# then return width of the image\n",
    "def get_size(path):\n",
    "    img = cv2.imread(path)\n",
    "    return img.shape[0]"
   ]
  },
  {
   "cell_type": "code",
   "execution_count": 9,
   "id": "b097448b",
   "metadata": {},
   "outputs": [],
   "source": [
    "df['dimension'] = df['filepath'].apply(get_size) # store dimension of image in this columns"
   ]
  },
  {
   "cell_type": "code",
   "execution_count": 10,
   "id": "e36ed276",
   "metadata": {},
   "outputs": [
    {
     "data": {
      "text/html": [
       "<div>\n",
       "<style scoped>\n",
       "    .dataframe tbody tr th:only-of-type {\n",
       "        vertical-align: middle;\n",
       "    }\n",
       "\n",
       "    .dataframe tbody tr th {\n",
       "        vertical-align: top;\n",
       "    }\n",
       "\n",
       "    .dataframe thead th {\n",
       "        text-align: right;\n",
       "    }\n",
       "</style>\n",
       "<table border=\"1\" class=\"dataframe\">\n",
       "  <thead>\n",
       "    <tr style=\"text-align: right;\">\n",
       "      <th></th>\n",
       "      <th>filepath</th>\n",
       "      <th>gender</th>\n",
       "      <th>dimension</th>\n",
       "    </tr>\n",
       "  </thead>\n",
       "  <tbody>\n",
       "    <tr>\n",
       "      <th>0</th>\n",
       "      <td>./crop_data/female\\female_0.jpg</td>\n",
       "      <td>female</td>\n",
       "      <td>273</td>\n",
       "    </tr>\n",
       "    <tr>\n",
       "      <th>1</th>\n",
       "      <td>./crop_data/female\\female_1.jpg</td>\n",
       "      <td>female</td>\n",
       "      <td>182</td>\n",
       "    </tr>\n",
       "    <tr>\n",
       "      <th>2</th>\n",
       "      <td>./crop_data/female\\female_100.jpg</td>\n",
       "      <td>female</td>\n",
       "      <td>122</td>\n",
       "    </tr>\n",
       "    <tr>\n",
       "      <th>3</th>\n",
       "      <td>./crop_data/female\\female_1002.jpg</td>\n",
       "      <td>female</td>\n",
       "      <td>122</td>\n",
       "    </tr>\n",
       "    <tr>\n",
       "      <th>4</th>\n",
       "      <td>./crop_data/female\\female_1005.jpg</td>\n",
       "      <td>female</td>\n",
       "      <td>182</td>\n",
       "    </tr>\n",
       "  </tbody>\n",
       "</table>\n",
       "</div>"
      ],
      "text/plain": [
       "                             filepath  gender  dimension\n",
       "0     ./crop_data/female\\female_0.jpg  female        273\n",
       "1     ./crop_data/female\\female_1.jpg  female        182\n",
       "2   ./crop_data/female\\female_100.jpg  female        122\n",
       "3  ./crop_data/female\\female_1002.jpg  female        122\n",
       "4  ./crop_data/female\\female_1005.jpg  female        182"
      ]
     },
     "execution_count": 10,
     "metadata": {},
     "output_type": "execute_result"
    }
   ],
   "source": [
    "df.head()"
   ]
  },
  {
   "cell_type": "markdown",
   "id": "ffce8ad1",
   "metadata": {},
   "source": [
    "#### Exploratory Data Analysis\n",
    "1. Distribution of Male and Female \n",
    " - Bar Chart\n",
    " - Pie Chart\n",
    "2. What Distribution of size of all Images\n",
    " - Histogram\n",
    " - Box Plot\n",
    " - Split by “Gender”\n",
    "3. Make the decision of width & height to resize using above chart.\n",
    "4. Remove the few images that are having very less size"
   ]
  },
  {
   "cell_type": "code",
   "execution_count": 11,
   "id": "9eaef530",
   "metadata": {},
   "outputs": [
    {
     "data": {
      "text/plain": [
       "gender\n",
       "female    2586\n",
       "male      2172\n",
       "Name: count, dtype: int64"
      ]
     },
     "execution_count": 11,
     "metadata": {},
     "output_type": "execute_result"
    }
   ],
   "source": [
    "dist_gender = df['gender'].value_counts()\n",
    "dist_gender"
   ]
  },
  {
   "cell_type": "code",
   "execution_count": 12,
   "id": "5b067741",
   "metadata": {},
   "outputs": [
    {
     "data": {
      "image/png": "[encoded data removed]",
      "text/plain": [
       "<Figure size 640x480 with 2 Axes>"
      ]
     },
     "metadata": {},
     "output_type": "display_data"
    }
   ],
   "source": [
    "fig,ax = plt.subplots(nrows=1,ncols=2)\n",
    "dist_gender.plot(kind='bar',ax=ax[0])\n",
    "dist_gender.plot(kind='pie',ax=ax[1],autopct='%0.0f%%')\n",
    "plt.show()"
   ]
  },
  {
   "cell_type": "code",
   "execution_count": 13,
   "id": "0199aaae",
   "metadata": {},
   "outputs": [
    {
     "data": {
      "image/png": "[encoded data removed]",
      "text/plain": [
       "<Figure size 1200x600 with 2 Axes>"
      ]
     },
     "metadata": {},
     "output_type": "display_data"
    }
   ],
   "source": [
    "# What Distribution of size of all Images\n",
    "# Histogram\n",
    "# Box Plot\n",
    "# Split by “Gender”\n",
    "plt.figure(figsize=(12,6))\n",
    "plt.subplot(2,1,1)\n",
    "sns.histplot(df['dimension'])\n",
    "plt.subplot(2,1,2)\n",
    "sns.boxplot(df['dimension'])\n",
    "plt.show()"
   ]
  },
  {
   "cell_type": "code",
   "execution_count": 14,
   "id": "8c708216",
   "metadata": {},
   "outputs": [
    {
     "data": {
      "text/plain": [
       "<seaborn.axisgrid.FacetGrid at 0x2201f8c1be0>"
      ]
     },
     "execution_count": 14,
     "metadata": {},
     "output_type": "execute_result"
    },
    {
     "data": {
      "image/png": "[encoded data removed]",
      "text/plain": [
       "<Figure size 511.111x500 with 1 Axes>"
      ]
     },
     "metadata": {},
     "output_type": "display_data"
    }
   ],
   "source": [
    "sns.catplot(data=df,x='gender',y='dimension',kind='box')"
   ]
  },
  {
   "cell_type": "markdown",
   "id": "5c79e813",
   "metadata": {},
   "source": [
    "1. We have almost equal distrbution of gender (numbers)\n",
    "2. Most of the images are having dimension more than 60\n",
    "3. Female most of the female images are HD compare to male images\n",
    "\n",
    "---\n",
    "- **Consider the image with dimensions more than 60**\n",
    "- **Resize all the the image into 100 x 100**"
   ]
  },
  {
   "cell_type": "code",
   "execution_count": 15,
   "id": "d40b8254",
   "metadata": {},
   "outputs": [
    {
     "data": {
      "text/plain": [
       "(4319, 3)"
      ]
     },
     "execution_count": 15,
     "metadata": {},
     "output_type": "execute_result"
    }
   ],
   "source": [
    "df_filter = df.query('dimension > 60')\n",
    "df_filter.shape"
   ]
  },
  {
   "cell_type": "code",
   "execution_count": 16,
   "id": "e69111fd",
   "metadata": {},
   "outputs": [
    {
     "data": {
      "text/plain": [
       "gender\n",
       "female    0.552211\n",
       "male      0.447789\n",
       "Name: proportion, dtype: float64"
      ]
     },
     "execution_count": 16,
     "metadata": {},
     "output_type": "execute_result"
    }
   ],
   "source": [
    "df_filter['gender'].value_counts(normalize=True)"
   ]
  },
  {
   "cell_type": "markdown",
   "id": "6ba7f10b",
   "metadata": {},
   "source": [
    "#### Structure the image \n",
    "- 100 x 100"
   ]
  },
  {
   "cell_type": "code",
   "execution_count": 29,
   "id": "7a8700f8",
   "metadata": {},
   "outputs": [],
   "source": [
    "def structuring(path):\n",
    "    try:\n",
    "\n",
    "        # step - 1: read image\n",
    "        img = cv2.imread(path) # BGR\n",
    "        # step - 2: convert into grayscale\n",
    "        gray = cv2.cvtColor(img,cv2.COLOR_BGR2GRAY)\n",
    "        # step -3: resize into 100 x 100 array   \n",
    "\n",
    "        size = gray.shape[0]\n",
    "        if size >= 100:\n",
    "            # cv2.INTER_AREA (SHINK)\n",
    "            gray_resize = cv2.resize(gray,(100,100),cv2.INTER_AREA)\n",
    "        else:\n",
    "            # cv2.INTER_CUBIC (ENLARGE)\n",
    "            gray_resize = cv2.resize(gray,(100,100),cv2.INTER_CUBIC)\n",
    "\n",
    "        # step -4: Flatten Image (1x10,000)\n",
    "        flatten_image = gray_resize.flatten()\n",
    "        return flatten_image\n",
    "    \n",
    "    except:\n",
    "        return None"
   ]
  },
  {
   "cell_type": "code",
   "execution_count": 18,
   "id": "861860a1",
   "metadata": {},
   "outputs": [
    {
     "data": {
      "text/html": [
       "<div>\n",
       "<style scoped>\n",
       "    .dataframe tbody tr th:only-of-type {\n",
       "        vertical-align: middle;\n",
       "    }\n",
       "\n",
       "    .dataframe tbody tr th {\n",
       "        vertical-align: top;\n",
       "    }\n",
       "\n",
       "    .dataframe thead th {\n",
       "        text-align: right;\n",
       "    }\n",
       "</style>\n",
       "<table border=\"1\" class=\"dataframe\">\n",
       "  <thead>\n",
       "    <tr style=\"text-align: right;\">\n",
       "      <th></th>\n",
       "      <th>filepath</th>\n",
       "      <th>gender</th>\n",
       "      <th>dimension</th>\n",
       "      <th>data</th>\n",
       "    </tr>\n",
       "  </thead>\n",
       "  <tbody>\n",
       "    <tr>\n",
       "      <th>0</th>\n",
       "      <td>./crop_data/female\\female_0.jpg</td>\n",
       "      <td>female</td>\n",
       "      <td>273</td>\n",
       "      <td>[200, 189, 188, 181, 184, 185, 179, 176, 189, ...</td>\n",
       "    </tr>\n",
       "    <tr>\n",
       "      <th>1</th>\n",
       "      <td>./crop_data/female\\female_1.jpg</td>\n",
       "      <td>female</td>\n",
       "      <td>182</td>\n",
       "      <td>[31, 25, 35, 25, 31, 29, 30, 31, 34, 34, 49, 7...</td>\n",
       "    </tr>\n",
       "    <tr>\n",
       "      <th>2</th>\n",
       "      <td>./crop_data/female\\female_100.jpg</td>\n",
       "      <td>female</td>\n",
       "      <td>122</td>\n",
       "      <td>[49, 49, 35, 34, 42, 40, 35, 39, 71, 62, 46, 4...</td>\n",
       "    </tr>\n",
       "    <tr>\n",
       "      <th>3</th>\n",
       "      <td>./crop_data/female\\female_1002.jpg</td>\n",
       "      <td>female</td>\n",
       "      <td>122</td>\n",
       "      <td>[137, 128, 114, 96, 96, 95, 93, 114, 150, 163,...</td>\n",
       "    </tr>\n",
       "    <tr>\n",
       "      <th>4</th>\n",
       "      <td>./crop_data/female\\female_1005.jpg</td>\n",
       "      <td>female</td>\n",
       "      <td>182</td>\n",
       "      <td>[234, 236, 231, 231, 231, 185, 142, 111, 52, 4...</td>\n",
       "    </tr>\n",
       "  </tbody>\n",
       "</table>\n",
       "</div>"
      ],
      "text/plain": [
       "                             filepath  gender  dimension  \\\n",
       "0     ./crop_data/female\\female_0.jpg  female        273   \n",
       "1     ./crop_data/female\\female_1.jpg  female        182   \n",
       "2   ./crop_data/female\\female_100.jpg  female        122   \n",
       "3  ./crop_data/female\\female_1002.jpg  female        122   \n",
       "4  ./crop_data/female\\female_1005.jpg  female        182   \n",
       "\n",
       "                                                data  \n",
       "0  [200, 189, 188, 181, 184, 185, 179, 176, 189, ...  \n",
       "1  [31, 25, 35, 25, 31, 29, 30, 31, 34, 34, 49, 7...  \n",
       "2  [49, 49, 35, 34, 42, 40, 35, 39, 71, 62, 46, 4...  \n",
       "3  [137, 128, 114, 96, 96, 95, 93, 114, 150, 163,...  \n",
       "4  [234, 236, 231, 231, 231, 185, 142, 111, 52, 4...  "
      ]
     },
     "execution_count": 18,
     "metadata": {},
     "output_type": "execute_result"
    }
   ],
   "source": [
    "df_filter['data'] = df_filter['filepath'].apply(structuring) # convert all images into 100 x 100\n",
    "df_filter.head()"
   ]
  },
  {
   "cell_type": "code",
   "execution_count": 19,
   "id": "cd24fdf5",
   "metadata": {},
   "outputs": [
    {
     "data": {
      "text/html": [
       "<div>\n",
       "<style scoped>\n",
       "    .dataframe tbody tr th:only-of-type {\n",
       "        vertical-align: middle;\n",
       "    }\n",
       "\n",
       "    .dataframe tbody tr th {\n",
       "        vertical-align: top;\n",
       "    }\n",
       "\n",
       "    .dataframe thead th {\n",
       "        text-align: right;\n",
       "    }\n",
       "</style>\n",
       "<table border=\"1\" class=\"dataframe\">\n",
       "  <thead>\n",
       "    <tr style=\"text-align: right;\">\n",
       "      <th></th>\n",
       "      <th>pixel_0</th>\n",
       "      <th>pixel_1</th>\n",
       "      <th>pixel_2</th>\n",
       "      <th>pixel_3</th>\n",
       "      <th>pixel_4</th>\n",
       "      <th>pixel_5</th>\n",
       "      <th>pixel_6</th>\n",
       "      <th>pixel_7</th>\n",
       "      <th>pixel_8</th>\n",
       "      <th>pixel_9</th>\n",
       "      <th>...</th>\n",
       "      <th>pixel_9990</th>\n",
       "      <th>pixel_9991</th>\n",
       "      <th>pixel_9992</th>\n",
       "      <th>pixel_9993</th>\n",
       "      <th>pixel_9994</th>\n",
       "      <th>pixel_9995</th>\n",
       "      <th>pixel_9996</th>\n",
       "      <th>pixel_9997</th>\n",
       "      <th>pixel_9998</th>\n",
       "      <th>pixel_9999</th>\n",
       "    </tr>\n",
       "  </thead>\n",
       "  <tbody>\n",
       "    <tr>\n",
       "      <th>0</th>\n",
       "      <td>200</td>\n",
       "      <td>189</td>\n",
       "      <td>188</td>\n",
       "      <td>181</td>\n",
       "      <td>184</td>\n",
       "      <td>185</td>\n",
       "      <td>179</td>\n",
       "      <td>176</td>\n",
       "      <td>189</td>\n",
       "      <td>180</td>\n",
       "      <td>...</td>\n",
       "      <td>109</td>\n",
       "      <td>106</td>\n",
       "      <td>108</td>\n",
       "      <td>111</td>\n",
       "      <td>113</td>\n",
       "      <td>115</td>\n",
       "      <td>120</td>\n",
       "      <td>117</td>\n",
       "      <td>118</td>\n",
       "      <td>122</td>\n",
       "    </tr>\n",
       "    <tr>\n",
       "      <th>1</th>\n",
       "      <td>31</td>\n",
       "      <td>25</td>\n",
       "      <td>35</td>\n",
       "      <td>25</td>\n",
       "      <td>31</td>\n",
       "      <td>29</td>\n",
       "      <td>30</td>\n",
       "      <td>31</td>\n",
       "      <td>34</td>\n",
       "      <td>34</td>\n",
       "      <td>...</td>\n",
       "      <td>45</td>\n",
       "      <td>27</td>\n",
       "      <td>22</td>\n",
       "      <td>30</td>\n",
       "      <td>22</td>\n",
       "      <td>35</td>\n",
       "      <td>20</td>\n",
       "      <td>35</td>\n",
       "      <td>65</td>\n",
       "      <td>19</td>\n",
       "    </tr>\n",
       "    <tr>\n",
       "      <th>2</th>\n",
       "      <td>49</td>\n",
       "      <td>49</td>\n",
       "      <td>35</td>\n",
       "      <td>34</td>\n",
       "      <td>42</td>\n",
       "      <td>40</td>\n",
       "      <td>35</td>\n",
       "      <td>39</td>\n",
       "      <td>71</td>\n",
       "      <td>62</td>\n",
       "      <td>...</td>\n",
       "      <td>210</td>\n",
       "      <td>230</td>\n",
       "      <td>231</td>\n",
       "      <td>237</td>\n",
       "      <td>238</td>\n",
       "      <td>230</td>\n",
       "      <td>220</td>\n",
       "      <td>212</td>\n",
       "      <td>210</td>\n",
       "      <td>208</td>\n",
       "    </tr>\n",
       "    <tr>\n",
       "      <th>3</th>\n",
       "      <td>137</td>\n",
       "      <td>128</td>\n",
       "      <td>114</td>\n",
       "      <td>96</td>\n",
       "      <td>96</td>\n",
       "      <td>95</td>\n",
       "      <td>93</td>\n",
       "      <td>114</td>\n",
       "      <td>150</td>\n",
       "      <td>163</td>\n",
       "      <td>...</td>\n",
       "      <td>66</td>\n",
       "      <td>53</td>\n",
       "      <td>68</td>\n",
       "      <td>67</td>\n",
       "      <td>74</td>\n",
       "      <td>92</td>\n",
       "      <td>97</td>\n",
       "      <td>103</td>\n",
       "      <td>102</td>\n",
       "      <td>96</td>\n",
       "    </tr>\n",
       "    <tr>\n",
       "      <th>4</th>\n",
       "      <td>234</td>\n",
       "      <td>236</td>\n",
       "      <td>231</td>\n",
       "      <td>231</td>\n",
       "      <td>231</td>\n",
       "      <td>185</td>\n",
       "      <td>142</td>\n",
       "      <td>111</td>\n",
       "      <td>52</td>\n",
       "      <td>45</td>\n",
       "      <td>...</td>\n",
       "      <td>241</td>\n",
       "      <td>240</td>\n",
       "      <td>236</td>\n",
       "      <td>237</td>\n",
       "      <td>239</td>\n",
       "      <td>237</td>\n",
       "      <td>237</td>\n",
       "      <td>242</td>\n",
       "      <td>241</td>\n",
       "      <td>241</td>\n",
       "    </tr>\n",
       "  </tbody>\n",
       "</table>\n",
       "<p>5 rows × 10000 columns</p>\n",
       "</div>"
      ],
      "text/plain": [
       "   pixel_0  pixel_1  pixel_2  pixel_3  pixel_4  pixel_5  pixel_6  pixel_7  \\\n",
       "0      200      189      188      181      184      185      179      176   \n",
       "1       31       25       35       25       31       29       30       31   \n",
       "2       49       49       35       34       42       40       35       39   \n",
       "3      137      128      114       96       96       95       93      114   \n",
       "4      234      236      231      231      231      185      142      111   \n",
       "\n",
       "   pixel_8  pixel_9  ...  pixel_9990  pixel_9991  pixel_9992  pixel_9993  \\\n",
       "0      189      180  ...         109         106         108         111   \n",
       "1       34       34  ...          45          27          22          30   \n",
       "2       71       62  ...         210         230         231         237   \n",
       "3      150      163  ...          66          53          68          67   \n",
       "4       52       45  ...         241         240         236         237   \n",
       "\n",
       "   pixel_9994  pixel_9995  pixel_9996  pixel_9997  pixel_9998  pixel_9999  \n",
       "0         113         115         120         117         118         122  \n",
       "1          22          35          20          35          65          19  \n",
       "2         238         230         220         212         210         208  \n",
       "3          74          92          97         103         102          96  \n",
       "4         239         237         237         242         241         241  \n",
       "\n",
       "[5 rows x 10000 columns]"
      ]
     },
     "execution_count": 19,
     "metadata": {},
     "output_type": "execute_result"
    }
   ],
   "source": [
    "data = df_filter['data'].apply(pd.Series)\n",
    "data.columns = [f\"pixel_{i}\" for i in data.columns]\n",
    "data.head()"
   ]
  },
  {
   "cell_type": "markdown",
   "id": "27e18476",
   "metadata": {},
   "source": [
    "#### Data Normalization"
   ]
  },
  {
   "cell_type": "code",
   "execution_count": 20,
   "id": "7ca32518",
   "metadata": {},
   "outputs": [
    {
     "data": {
      "text/html": [
       "<div>\n",
       "<style scoped>\n",
       "    .dataframe tbody tr th:only-of-type {\n",
       "        vertical-align: middle;\n",
       "    }\n",
       "\n",
       "    .dataframe tbody tr th {\n",
       "        vertical-align: top;\n",
       "    }\n",
       "\n",
       "    .dataframe thead th {\n",
       "        text-align: right;\n",
       "    }\n",
       "</style>\n",
       "<table border=\"1\" class=\"dataframe\">\n",
       "  <thead>\n",
       "    <tr style=\"text-align: right;\">\n",
       "      <th></th>\n",
       "      <th>pixel_0</th>\n",
       "      <th>pixel_1</th>\n",
       "      <th>pixel_2</th>\n",
       "      <th>pixel_3</th>\n",
       "      <th>pixel_4</th>\n",
       "      <th>pixel_5</th>\n",
       "      <th>pixel_6</th>\n",
       "      <th>pixel_7</th>\n",
       "      <th>pixel_8</th>\n",
       "      <th>pixel_9</th>\n",
       "      <th>...</th>\n",
       "      <th>pixel_9991</th>\n",
       "      <th>pixel_9992</th>\n",
       "      <th>pixel_9993</th>\n",
       "      <th>pixel_9994</th>\n",
       "      <th>pixel_9995</th>\n",
       "      <th>pixel_9996</th>\n",
       "      <th>pixel_9997</th>\n",
       "      <th>pixel_9998</th>\n",
       "      <th>pixel_9999</th>\n",
       "      <th>gender</th>\n",
       "    </tr>\n",
       "  </thead>\n",
       "  <tbody>\n",
       "    <tr>\n",
       "      <th>0</th>\n",
       "      <td>0.784314</td>\n",
       "      <td>0.741176</td>\n",
       "      <td>0.737255</td>\n",
       "      <td>0.709804</td>\n",
       "      <td>0.721569</td>\n",
       "      <td>0.725490</td>\n",
       "      <td>0.701961</td>\n",
       "      <td>0.690196</td>\n",
       "      <td>0.741176</td>\n",
       "      <td>0.705882</td>\n",
       "      <td>...</td>\n",
       "      <td>0.415686</td>\n",
       "      <td>0.423529</td>\n",
       "      <td>0.435294</td>\n",
       "      <td>0.443137</td>\n",
       "      <td>0.450980</td>\n",
       "      <td>0.470588</td>\n",
       "      <td>0.458824</td>\n",
       "      <td>0.462745</td>\n",
       "      <td>0.478431</td>\n",
       "      <td>female</td>\n",
       "    </tr>\n",
       "    <tr>\n",
       "      <th>1</th>\n",
       "      <td>0.121569</td>\n",
       "      <td>0.098039</td>\n",
       "      <td>0.137255</td>\n",
       "      <td>0.098039</td>\n",
       "      <td>0.121569</td>\n",
       "      <td>0.113725</td>\n",
       "      <td>0.117647</td>\n",
       "      <td>0.121569</td>\n",
       "      <td>0.133333</td>\n",
       "      <td>0.133333</td>\n",
       "      <td>...</td>\n",
       "      <td>0.105882</td>\n",
       "      <td>0.086275</td>\n",
       "      <td>0.117647</td>\n",
       "      <td>0.086275</td>\n",
       "      <td>0.137255</td>\n",
       "      <td>0.078431</td>\n",
       "      <td>0.137255</td>\n",
       "      <td>0.254902</td>\n",
       "      <td>0.074510</td>\n",
       "      <td>female</td>\n",
       "    </tr>\n",
       "    <tr>\n",
       "      <th>2</th>\n",
       "      <td>0.192157</td>\n",
       "      <td>0.192157</td>\n",
       "      <td>0.137255</td>\n",
       "      <td>0.133333</td>\n",
       "      <td>0.164706</td>\n",
       "      <td>0.156863</td>\n",
       "      <td>0.137255</td>\n",
       "      <td>0.152941</td>\n",
       "      <td>0.278431</td>\n",
       "      <td>0.243137</td>\n",
       "      <td>...</td>\n",
       "      <td>0.901961</td>\n",
       "      <td>0.905882</td>\n",
       "      <td>0.929412</td>\n",
       "      <td>0.933333</td>\n",
       "      <td>0.901961</td>\n",
       "      <td>0.862745</td>\n",
       "      <td>0.831373</td>\n",
       "      <td>0.823529</td>\n",
       "      <td>0.815686</td>\n",
       "      <td>female</td>\n",
       "    </tr>\n",
       "    <tr>\n",
       "      <th>3</th>\n",
       "      <td>0.537255</td>\n",
       "      <td>0.501961</td>\n",
       "      <td>0.447059</td>\n",
       "      <td>0.376471</td>\n",
       "      <td>0.376471</td>\n",
       "      <td>0.372549</td>\n",
       "      <td>0.364706</td>\n",
       "      <td>0.447059</td>\n",
       "      <td>0.588235</td>\n",
       "      <td>0.639216</td>\n",
       "      <td>...</td>\n",
       "      <td>0.207843</td>\n",
       "      <td>0.266667</td>\n",
       "      <td>0.262745</td>\n",
       "      <td>0.290196</td>\n",
       "      <td>0.360784</td>\n",
       "      <td>0.380392</td>\n",
       "      <td>0.403922</td>\n",
       "      <td>0.400000</td>\n",
       "      <td>0.376471</td>\n",
       "      <td>female</td>\n",
       "    </tr>\n",
       "    <tr>\n",
       "      <th>4</th>\n",
       "      <td>0.917647</td>\n",
       "      <td>0.925490</td>\n",
       "      <td>0.905882</td>\n",
       "      <td>0.905882</td>\n",
       "      <td>0.905882</td>\n",
       "      <td>0.725490</td>\n",
       "      <td>0.556863</td>\n",
       "      <td>0.435294</td>\n",
       "      <td>0.203922</td>\n",
       "      <td>0.176471</td>\n",
       "      <td>...</td>\n",
       "      <td>0.941176</td>\n",
       "      <td>0.925490</td>\n",
       "      <td>0.929412</td>\n",
       "      <td>0.937255</td>\n",
       "      <td>0.929412</td>\n",
       "      <td>0.929412</td>\n",
       "      <td>0.949020</td>\n",
       "      <td>0.945098</td>\n",
       "      <td>0.945098</td>\n",
       "      <td>female</td>\n",
       "    </tr>\n",
       "  </tbody>\n",
       "</table>\n",
       "<p>5 rows × 10001 columns</p>\n",
       "</div>"
      ],
      "text/plain": [
       "    pixel_0   pixel_1   pixel_2   pixel_3   pixel_4   pixel_5   pixel_6  \\\n",
       "0  0.784314  0.741176  0.737255  0.709804  0.721569  0.725490  0.701961   \n",
       "1  0.121569  0.098039  0.137255  0.098039  0.121569  0.113725  0.117647   \n",
       "2  0.192157  0.192157  0.137255  0.133333  0.164706  0.156863  0.137255   \n",
       "3  0.537255  0.501961  0.447059  0.376471  0.376471  0.372549  0.364706   \n",
       "4  0.917647  0.925490  0.905882  0.905882  0.905882  0.725490  0.556863   \n",
       "\n",
       "    pixel_7   pixel_8   pixel_9  ...  pixel_9991  pixel_9992  pixel_9993  \\\n",
       "0  0.690196  0.741176  0.705882  ...    0.415686    0.423529    0.435294   \n",
       "1  0.121569  0.133333  0.133333  ...    0.105882    0.086275    0.117647   \n",
       "2  0.152941  0.278431  0.243137  ...    0.901961    0.905882    0.929412   \n",
       "3  0.447059  0.588235  0.639216  ...    0.207843    0.266667    0.262745   \n",
       "4  0.435294  0.203922  0.176471  ...    0.941176    0.925490    0.929412   \n",
       "\n",
       "   pixel_9994  pixel_9995  pixel_9996  pixel_9997  pixel_9998  pixel_9999  \\\n",
       "0    0.443137    0.450980    0.470588    0.458824    0.462745    0.478431   \n",
       "1    0.086275    0.137255    0.078431    0.137255    0.254902    0.074510   \n",
       "2    0.933333    0.901961    0.862745    0.831373    0.823529    0.815686   \n",
       "3    0.290196    0.360784    0.380392    0.403922    0.400000    0.376471   \n",
       "4    0.937255    0.929412    0.929412    0.949020    0.945098    0.945098   \n",
       "\n",
       "   gender  \n",
       "0  female  \n",
       "1  female  \n",
       "2  female  \n",
       "3  female  \n",
       "4  female  \n",
       "\n",
       "[5 rows x 10001 columns]"
      ]
     },
     "execution_count": 20,
     "metadata": {},
     "output_type": "execute_result"
    }
   ],
   "source": [
    "# since for 8 bit image max value is 255 \n",
    "# therefore we are dividing each and every pixel with 255\n",
    "data = data/255.0 \n",
    "data['gender'] = df_filter['gender']\n",
    "data.head()"
   ]
  },
  {
   "cell_type": "code",
   "execution_count": 21,
   "id": "1a7b4099",
   "metadata": {},
   "outputs": [
    {
     "data": {
      "text/plain": [
       "np.int64(0)"
      ]
     },
     "execution_count": 21,
     "metadata": {},
     "output_type": "execute_result"
    }
   ],
   "source": [
    "###\n",
    "data.isnull().sum().sum()"
   ]
  },
  {
   "cell_type": "code",
   "execution_count": 22,
   "id": "5d5e3b19",
   "metadata": {},
   "outputs": [],
   "source": [
    "## remove the missing values\n",
    "data.dropna(inplace=True)"
   ]
  },
  {
   "cell_type": "code",
   "execution_count": 23,
   "id": "7fce6223",
   "metadata": {},
   "outputs": [
    {
     "data": {
      "text/plain": [
       "(4319, 10001)"
      ]
     },
     "execution_count": 23,
     "metadata": {},
     "output_type": "execute_result"
    }
   ],
   "source": [
    "data.shape"
   ]
  },
  {
   "cell_type": "markdown",
   "id": "d5037ea1",
   "metadata": {},
   "source": [
    "**Save the data** for future study"
   ]
  },
  {
   "cell_type": "code",
   "execution_count": 24,
   "id": "2713b9ed",
   "metadata": {},
   "outputs": [],
   "source": [
    "import pickle"
   ]
  },
  {
   "cell_type": "code",
   "execution_count": 25,
   "id": "11a2caeb",
   "metadata": {},
   "outputs": [],
   "source": [
    "pickle.dump(data,open('./data/data_images_100_100.pickle',mode='wb'))"
   ]
  },
  {
   "cell_type": "markdown",
   "id": "763e5851",
   "metadata": {},
   "source": [
    "---\n",
    "### END"
   ]
  }
 ],
 "metadata": {
  "kernelspec": {
   "display_name": "Python 3 (ipykernel)",
   "language": "python",
   "name": "python3"
  },
  "language_info": {
   "codemirror_mode": {
    "name": "ipython",
    "version": 3
   },
   "file_extension": ".py",
   "mimetype": "text/x-python",
   "name": "python",
   "nbconvert_exporter": "python",
   "pygments_lexer": "ipython3",
   "version": "3.13.1"
  }
 },
 "nbformat": 4,
 "nbformat_minor": 5
}
