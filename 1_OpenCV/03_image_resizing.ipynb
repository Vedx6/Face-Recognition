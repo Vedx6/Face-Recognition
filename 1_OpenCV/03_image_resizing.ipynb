{
 "cells": [
  {
   "cell_type": "markdown",
   "id": "a5b7d225",
   "metadata": {},
   "source": [
    "# Resize"
   ]
  },
  {
   "cell_type": "code",
   "execution_count": 3,
   "id": "c7547151",
   "metadata": {},
   "outputs": [],
   "source": [
    "import cv2\n",
    "\n",
    "# Load the image\n",
    "img = cv2.imread('./data/flying_bird.jpg')\n",
    "\n",
    "# Check if the image was loaded correctly\n",
    "if img is None:\n",
    "    print(\"Error: Image not loaded.\")\n",
    "else:\n",
    "    # Resize the image to three different sizes\n",
    "    img_resized = cv2.resize(img, (640, 480))  # Resize to 640x480\n",
    "    img_shrink = cv2.resize(img, (320, 240), interpolation=cv2.INTER_AREA)  # Shrink to 320x240\n",
    "    img_zoom = cv2.resize(img, (1280, 960), interpolation=cv2.INTER_CUBIC)  # Zoom to 1280x960\n",
    "\n",
    "    # Show each resized image in separate windows\n",
    "    cv2.imshow('Original Image', img)\n",
    "    cv2.imshow('Resized Image (640x480)', img_resized)\n",
    "    cv2.imshow('Shrunken Image (320x240)', img_shrink)\n",
    "    cv2.imshow('Zoomed Image (1280x960)', img_zoom)\n",
    "\n",
    "    # Wait for a key press indefinitely or until 'Esc' (27) is pressed\n",
    "    cv2.waitKey(0)\n",
    "\n",
    "    # Close all windows after key press\n",
    "    cv2.destroyAllWindows()\n"
   ]
  },
  {
   "cell_type": "code",
   "execution_count": null,
   "id": "95038b85-abfb-463f-a455-322a804a58c6",
   "metadata": {},
   "outputs": [],
   "source": []
  },
  {
   "cell_type": "code",
   "execution_count": null,
   "id": "e58debf8-70a0-4200-9608-12ba19da0971",
   "metadata": {},
   "outputs": [],
   "source": []
  },
  {
   "cell_type": "code",
   "execution_count": null,
   "id": "499c2789-8e7a-4b08-ad06-e61efcda62fe",
   "metadata": {},
   "outputs": [],
   "source": []
  }
 ],
 "metadata": {
  "kernelspec": {
   "display_name": "Python 3 (ipykernel)",
   "language": "python",
   "name": "python3"
  },
  "language_info": {
   "codemirror_mode": {
    "name": "ipython",
    "version": 3
   },
   "file_extension": ".py",
   "mimetype": "text/x-python",
   "name": "python",
   "nbconvert_exporter": "python",
   "pygments_lexer": "ipython3",
   "version": "3.13.1"
  }
 },
 "nbformat": 4,
 "nbformat_minor": 5
}
